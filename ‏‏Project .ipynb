{
 "cells": [
  {
   "cell_type": "markdown",
   "metadata": {},
   "source": [
    "# Data science project"
   ]
  },
  {
   "cell_type": "markdown",
   "metadata": {},
   "source": [
    "## Section 1"
   ]
  },
  {
   "cell_type": "code",
   "execution_count": 74,
   "metadata": {
    "collapsed": true
   },
   "outputs": [],
   "source": [
    "import pandas as pd\n",
    "from pandas.core.frame import DataFrame\n",
    "\n",
    "df = pd.DataFrame.from_csv('hotels_data.csv', sep=',',encoding='utf-8')"
   ]
  },
  {
   "cell_type": "markdown",
   "metadata": {},
   "source": [
    "#### Render the data frame and save the result to 'Hotels_data_Changed.csv'"
   ]
  },
  {
   "cell_type": "code",
   "execution_count": 75,
   "metadata": {},
   "outputs": [
    {
     "data": {
      "text/html": [
       "<div>\n",
       "<style>\n",
       "    .dataframe thead tr:only-child th {\n",
       "        text-align: right;\n",
       "    }\n",
       "\n",
       "    .dataframe thead th {\n",
       "        text-align: left;\n",
       "    }\n",
       "\n",
       "    .dataframe tbody tr th {\n",
       "        vertical-align: top;\n",
       "    }\n",
       "</style>\n",
       "<table border=\"1\" class=\"dataframe\">\n",
       "  <thead>\n",
       "    <tr style=\"text-align: right;\">\n",
       "      <th></th>\n",
       "      <th>Snapshot Date</th>\n",
       "      <th>Checkin Date</th>\n",
       "      <th>Days</th>\n",
       "      <th>Original Price</th>\n",
       "      <th>Discount Price</th>\n",
       "      <th>Discount Code</th>\n",
       "      <th>Available Rooms</th>\n",
       "      <th>Hotel Name</th>\n",
       "      <th>Hotel Stars</th>\n",
       "      <th>DayDiff</th>\n",
       "      <th>DayWeek</th>\n",
       "      <th>DiscountDiff</th>\n",
       "      <th>DiscountPerc</th>\n",
       "    </tr>\n",
       "    <tr>\n",
       "      <th>Snapshot ID</th>\n",
       "      <th></th>\n",
       "      <th></th>\n",
       "      <th></th>\n",
       "      <th></th>\n",
       "      <th></th>\n",
       "      <th></th>\n",
       "      <th></th>\n",
       "      <th></th>\n",
       "      <th></th>\n",
       "      <th></th>\n",
       "      <th></th>\n",
       "      <th></th>\n",
       "      <th></th>\n",
       "    </tr>\n",
       "  </thead>\n",
       "  <tbody>\n",
       "    <tr>\n",
       "      <th>1</th>\n",
       "      <td>2015-07-17</td>\n",
       "      <td>2015-08-12</td>\n",
       "      <td>5</td>\n",
       "      <td>1178</td>\n",
       "      <td>1040</td>\n",
       "      <td>1</td>\n",
       "      <td>6</td>\n",
       "      <td>Best Western Plus Seaport Inn Downtown</td>\n",
       "      <td>3</td>\n",
       "      <td>26</td>\n",
       "      <td>2</td>\n",
       "      <td>138</td>\n",
       "      <td>11.714771</td>\n",
       "    </tr>\n",
       "    <tr>\n",
       "      <th>1</th>\n",
       "      <td>2015-07-17</td>\n",
       "      <td>2015-08-19</td>\n",
       "      <td>5</td>\n",
       "      <td>1113</td>\n",
       "      <td>982</td>\n",
       "      <td>1</td>\n",
       "      <td>8</td>\n",
       "      <td>Best Western Plus Seaport Inn Downtown</td>\n",
       "      <td>3</td>\n",
       "      <td>33</td>\n",
       "      <td>2</td>\n",
       "      <td>131</td>\n",
       "      <td>11.769991</td>\n",
       "    </tr>\n",
       "    <tr>\n",
       "      <th>1</th>\n",
       "      <td>2015-07-17</td>\n",
       "      <td>2015-08-13</td>\n",
       "      <td>5</td>\n",
       "      <td>4370</td>\n",
       "      <td>4240</td>\n",
       "      <td>1</td>\n",
       "      <td>3</td>\n",
       "      <td>The Peninsula New York</td>\n",
       "      <td>5</td>\n",
       "      <td>27</td>\n",
       "      <td>3</td>\n",
       "      <td>130</td>\n",
       "      <td>2.974828</td>\n",
       "    </tr>\n",
       "    <tr>\n",
       "      <th>1</th>\n",
       "      <td>2015-07-17</td>\n",
       "      <td>2015-07-26</td>\n",
       "      <td>5</td>\n",
       "      <td>1739</td>\n",
       "      <td>1667</td>\n",
       "      <td>1</td>\n",
       "      <td>18</td>\n",
       "      <td>Eventi Hotel a Kimpton Hotel</td>\n",
       "      <td>4</td>\n",
       "      <td>9</td>\n",
       "      <td>6</td>\n",
       "      <td>72</td>\n",
       "      <td>4.140311</td>\n",
       "    </tr>\n",
       "    <tr>\n",
       "      <th>1</th>\n",
       "      <td>2015-07-17</td>\n",
       "      <td>2015-08-12</td>\n",
       "      <td>5</td>\n",
       "      <td>1739</td>\n",
       "      <td>1672</td>\n",
       "      <td>1</td>\n",
       "      <td>3</td>\n",
       "      <td>Eventi Hotel a Kimpton Hotel</td>\n",
       "      <td>4</td>\n",
       "      <td>26</td>\n",
       "      <td>2</td>\n",
       "      <td>67</td>\n",
       "      <td>3.852789</td>\n",
       "    </tr>\n",
       "  </tbody>\n",
       "</table>\n",
       "</div>"
      ],
      "text/plain": [
       "            Snapshot Date Checkin Date  Days  Original Price  Discount Price  \\\n",
       "Snapshot ID                                                                    \n",
       "1              2015-07-17   2015-08-12     5            1178            1040   \n",
       "1              2015-07-17   2015-08-19     5            1113             982   \n",
       "1              2015-07-17   2015-08-13     5            4370            4240   \n",
       "1              2015-07-17   2015-07-26     5            1739            1667   \n",
       "1              2015-07-17   2015-08-12     5            1739            1672   \n",
       "\n",
       "             Discount Code  Available Rooms  \\\n",
       "Snapshot ID                                   \n",
       "1                        1                6   \n",
       "1                        1                8   \n",
       "1                        1                3   \n",
       "1                        1               18   \n",
       "1                        1                3   \n",
       "\n",
       "                                         Hotel Name  Hotel Stars  DayDiff  \\\n",
       "Snapshot ID                                                                 \n",
       "1            Best Western Plus Seaport Inn Downtown            3       26   \n",
       "1            Best Western Plus Seaport Inn Downtown            3       33   \n",
       "1                            The Peninsula New York            5       27   \n",
       "1                      Eventi Hotel a Kimpton Hotel            4        9   \n",
       "1                      Eventi Hotel a Kimpton Hotel            4       26   \n",
       "\n",
       "             DayWeek  DiscountDiff  DiscountPerc  \n",
       "Snapshot ID                                       \n",
       "1                  2           138     11.714771  \n",
       "1                  2           131     11.769991  \n",
       "1                  3           130      2.974828  \n",
       "1                  6            72      4.140311  \n",
       "1                  2            67      3.852789  "
      ]
     },
     "execution_count": 75,
     "metadata": {},
     "output_type": "execute_result"
    }
   ],
   "source": [
    "# Parse string columns to dateTime type\n",
    "df['Snapshot Date'] = pd.to_datetime(df['Snapshot Date'])\n",
    "df['Checkin Date'] = pd.to_datetime(df['Checkin Date'])\n",
    "\n",
    "# Calculate day difference\n",
    "df['DayDiff'] = (df['Checkin Date'] - df['Snapshot Date']).dt.days\n",
    "\n",
    "# Add checkin day of week\n",
    "df[\"DayWeek\"] = df['Checkin Date'].dt.dayofweek\n",
    "\n",
    "# Discount in dollars\n",
    "df['DiscountDiff'] = df['Original Price'] - df['Discount Price']\n",
    "\n",
    "# Discount in perecents\n",
    "df['DiscountPerc'] = (df['DiscountDiff'] / df['Original Price']) * 100\n",
    "\n",
    "df.to_csv('Hotels_data_Changed.csv',sep=',',encoding='utf-8')\n",
    "df.head(5)"
   ]
  },
  {
   "cell_type": "markdown",
   "metadata": {},
   "source": [
    "## Section 2"
   ]
  },
  {
   "cell_type": "code",
   "execution_count": 1,
   "metadata": {},
   "outputs": [
    {
     "name": "stderr",
     "output_type": "stream",
     "text": [
      "C:\\Users\\Daniel Yochpaz\\Anaconda3\\lib\\site-packages\\ipykernel_launcher.py:7: FutureWarning: from_csv is deprecated. Please use read_csv(...) instead. Note that some of the default arguments are different, so please refer to the documentation for from_csv when changing your function calls\n",
      "  import sys\n"
     ]
    }
   ],
   "source": [
    "import numpy as np\n",
    "import pandas as pd\n",
    "from sklearn.tree import DecisionTreeClassifier\n",
    "from sklearn.model_selection import train_test_split\n",
    "from sklearn.preprocessing import LabelEncoder\n",
    "\n",
    "df = pd.DataFrame.from_csv('Hotels_data_Changed.csv', sep=',',encoding='utf-8')"
   ]
  },
  {
   "cell_type": "markdown",
   "metadata": {},
   "source": [
    "#### Render data frame for Classification"
   ]
  },
  {
   "cell_type": "code",
   "execution_count": 2,
   "metadata": {},
   "outputs": [],
   "source": [
    "currentColumns = ['Hotel Name', 'DayDiff', 'Checkin Date', 'Snapshot Date', 'DayWeek','Discount Code','DiscountPerc']\n",
    "featuColumns = currentColumns[0:5]\n",
    "\n",
    "df = df[currentColumns]\n",
    "df.sort_values(['DiscountPerc'], ascending=False, inplace=True)\n",
    "df.drop_duplicates(subset=featuColumns, keep='first', inplace=True)\n",
    "df.dropna()\n",
    "\n",
    "df.to_csv('Hotels_data_Changed2.csv',sep=',',encoding='utf-8')\n",
    "\n",
    "label_encoder = LabelEncoder()\n",
    "x = df.drop(['Discount Code'],axis=1)\n",
    "x['Hotel Name'] = label_encoder.fit_transform(x['Hotel Name'])\n",
    "x['Snapshot Date'] = label_encoder.fit_transform(x['Snapshot Date'])\n",
    "x['Checkin Date'] = label_encoder.fit_transform(x['Checkin Date'])\n",
    "y = df['Discount Code']"
   ]
  },
  {
   "cell_type": "markdown",
   "metadata": {},
   "source": [
    "#### Split data to 70% train and 30% test"
   ]
  },
  {
   "cell_type": "code",
   "execution_count": 6,
   "metadata": {},
   "outputs": [],
   "source": [
    "from sklearn.metrics import classification_report,confusion_matrix\n",
    "from sklearn import metrics\n",
    "import matplotlib.pyplot as plt\n",
    "import scikitplot as skplt\n",
    "\n",
    "x_train,x_test,y_train,y_test = train_test_split(x,y,test_size=0.30)"
   ]
  },
  {
   "cell_type": "markdown",
   "metadata": {},
   "source": [
    "### Decision Tree"
   ]
  },
  {
   "cell_type": "code",
   "execution_count": 8,
   "metadata": {},
   "outputs": [],
   "source": [
    "dtree = DecisionTreeClassifier()\n",
    "dtree.fit(x_train,y_train);\n",
    "treePredictions = dtree.predict(x_test);"
   ]
  },
  {
   "cell_type": "markdown",
   "metadata": {},
   "source": [
    "#### Results analysis"
   ]
  },
  {
   "cell_type": "code",
   "execution_count": 9,
   "metadata": {},
   "outputs": [
    {
     "name": "stdout",
     "output_type": "stream",
     "text": [
      "        Predicted 1  Predicted 2  Predicted 3  Predicted 4\n",
      "True 1         6230          783          500          356\n",
      "True 2          676         8367          814          403\n",
      "True 3          538          892         7043          405\n",
      "True 4          363          394          428         3998\n",
      "\n",
      "Accuracy: 0.7964585274930103\n",
      "True positive: [6230 8367 7043 3998]\n",
      "False positive:\n",
      "Predicted 1    1577\n",
      "Predicted 2    2069\n",
      "Predicted 3    1742\n",
      "Predicted 4    1164\n",
      "dtype: int64\n"
     ]
    },
    {
     "data": {
      "image/png": "[encoded data removed]",
      "text/plain": [
       "<matplotlib.figure.Figure at 0x23f32c25320>"
      ]
     },
     "metadata": {},
     "output_type": "display_data"
    }
   ],
   "source": [
    "dtMatrix=pd.DataFrame(\n",
    "    confusion_matrix(y_test, treePredictions),\n",
    "    columns=['Predicted 1', 'Predicted 2','Predicted 3','Predicted 4'],\n",
    "    index=['True 1', 'True 2','True 3','True 4']\n",
    ")\n",
    "print(dtMatrix)\n",
    "print()\n",
    "print (\"Accuracy: %s\" %metrics.accuracy_score(y_test, treePredictions ))\n",
    "print(\"True positive: %s\" %np.diag(dtMatrix))\n",
    "print(\"False positive:\\n%s\" %(dtMatrix.sum(axis=0)-np.diag(dtMatrix)))\n",
    "skplt.metrics.plot_roc_curve(y_test, dtree.predict_proba(x_test))\n",
    "plt.show()"
   ]
  },
  {
   "cell_type": "markdown",
   "metadata": {},
   "source": [
    "### Naive Base prediction"
   ]
  },
  {
   "cell_type": "code",
   "execution_count": 63,
   "metadata": {
    "collapsed": true
   },
   "outputs": [],
   "source": [
    "from sklearn.naive_bayes import GaussianNB\n",
    "\n",
    "nb = GaussianNB()\n",
    "nb.fit(x_train,y_train)\n",
    "nbPredictions = nb.predict(x_test)"
   ]
  },
  {
   "cell_type": "markdown",
   "metadata": {
    "collapsed": true
   },
   "source": [
    "#### Results analysis"
   ]
  },
  {
   "cell_type": "code",
   "execution_count": 64,
   "metadata": {},
   "outputs": [
    {
     "name": "stdout",
     "output_type": "stream",
     "text": [
      "        Predicted 1  Predicted 2  Predicted 3  Predicted 4\n",
      "True 1         7007         3895          790            0\n",
      "True 2         5533         4939          542            0\n",
      "True 3         2970         2884          840            0\n",
      "True 4         1403         1056          331            0\n",
      "\n",
      "Accuracy: 0.397204100652\n",
      "True positive: [7007 4939  840    0]\n",
      "False positive:\n",
      "Predicted 1    9906\n",
      "Predicted 2    7835\n",
      "Predicted 3    1663\n",
      "Predicted 4       0\n",
      "dtype: int64\n"
     ]
    },
    {
     "data": {
      "image/png": "[encoded data removed]",
      "text/plain": [
       "<matplotlib.figure.Figure at 0x24f5e1477b8>"
      ]
     },
     "metadata": {},
     "output_type": "display_data"
    }
   ],
   "source": [
    "nbMatrix=pd.DataFrame(\n",
    "    confusion_matrix(y_test,nbPredictions ),\n",
    "    columns=['Predicted 1', 'Predicted 2','Predicted 3','Predicted 4'],\n",
    "    index=['True 1', 'True 2','True 3','True 4']\n",
    ")\n",
    "print(nbMatrix)\n",
    "print()\n",
    "print (\"Accuracy: %s\" %metrics.accuracy_score(y_test, nbPredictions))\n",
    "print(\"True positive: %s\" %np.diag(nbMatrix))\n",
    "print(\"False positive:\\n%s\" %(nbMatrix.sum(axis=0)-np.diag(nbMatrix)))\n",
    "skplt.metrics.plot_roc_curve(y_test, nb.predict_proba(x_test))\n",
    "plt.show()"
   ]
  },
  {
   "cell_type": "markdown",
   "metadata": {},
   "source": [
    "## Section 3"
   ]
  },
  {
   "cell_type": "markdown",
   "metadata": {
    "collapsed": true
   },
   "source": [
    "#### Group by hotel name and take top 150 by count"
   ]
  },
  {
   "cell_type": "code",
   "execution_count": 65,
   "metadata": {},
   "outputs": [
    {
     "data": {
      "text/plain": [
       "Hotel Name\n",
       "Newark Liberty International Airport Marriott                   5346\n",
       "Hilton Garden Inn Times Square                                  4892\n",
       "Residence Inn Newark Elizabeth Liberty International Airport    4314\n",
       "Westin New York at Times Square                                 3792\n",
       "Loews Regency New York Hotel                                    3617\n",
       "dtype: int64"
      ]
     },
     "execution_count": 65,
     "metadata": {},
     "output_type": "execute_result"
    }
   ],
   "source": [
    "df = pd.DataFrame.from_csv('Hotels_data_Changed.csv', sep=',',encoding='utf-8')\n",
    "groupByHotels = df.groupby(['Hotel Name']).size().sort_values(ascending=False).head(150)\n",
    "groupByHotels.head(5)"
   ]
  },
  {
   "cell_type": "markdown",
   "metadata": {},
   "source": [
    "#### Find top 40 checkin dates order by records count (high to low)"
   ]
  },
  {
   "cell_type": "code",
   "execution_count": 66,
   "metadata": {},
   "outputs": [
    {
     "data": {
      "text/plain": [
       "array(['2015-11-11', '2015-10-14', '2015-11-04', '2015-08-19', '2015-10-28'], dtype=object)"
      ]
     },
     "execution_count": 66,
     "metadata": {},
     "output_type": "execute_result"
    }
   ],
   "source": [
    "checkins = df.loc[df['Hotel Name'].isin(groupByHotels.index)].groupby(['Checkin Date']).size().sort_values(ascending=False).head(40)\n",
    "checkins = checkins.index.values\n",
    "checkins[:5]"
   ]
  },
  {
   "cell_type": "markdown",
   "metadata": {},
   "source": [
    "#### For each hotel show top 40 checkin dates compare to 'Discount Code'"
   ]
  },
  {
   "cell_type": "code",
   "execution_count": 67,
   "metadata": {},
   "outputs": [
    {
     "data": {
      "text/html": [
       "<div>\n",
       "<style>\n",
       "    .dataframe thead tr:only-child th {\n",
       "        text-align: right;\n",
       "    }\n",
       "\n",
       "    .dataframe thead th {\n",
       "        text-align: left;\n",
       "    }\n",
       "\n",
       "    .dataframe tbody tr th {\n",
       "        vertical-align: top;\n",
       "    }\n",
       "</style>\n",
       "<table border=\"1\" class=\"dataframe\">\n",
       "  <thead>\n",
       "    <tr style=\"text-align: right;\">\n",
       "      <th></th>\n",
       "      <th>Hotel Name</th>\n",
       "      <th>(1) 2015-11-11</th>\n",
       "      <th>(2) 2015-11-11</th>\n",
       "      <th>(3) 2015-11-11</th>\n",
       "      <th>(4) 2015-11-11</th>\n",
       "      <th>(1) 2015-10-14</th>\n",
       "      <th>(2) 2015-10-14</th>\n",
       "      <th>(3) 2015-10-14</th>\n",
       "      <th>(4) 2015-10-14</th>\n",
       "      <th>(1) 2015-11-04</th>\n",
       "      <th>...</th>\n",
       "      <th>(3) 2015-11-03</th>\n",
       "      <th>(4) 2015-11-03</th>\n",
       "      <th>(1) 2015-08-13</th>\n",
       "      <th>(2) 2015-08-13</th>\n",
       "      <th>(3) 2015-08-13</th>\n",
       "      <th>(4) 2015-08-13</th>\n",
       "      <th>(1) 2015-11-25</th>\n",
       "      <th>(2) 2015-11-25</th>\n",
       "      <th>(3) 2015-11-25</th>\n",
       "      <th>(4) 2015-11-25</th>\n",
       "    </tr>\n",
       "  </thead>\n",
       "  <tbody>\n",
       "    <tr>\n",
       "      <th>0</th>\n",
       "      <td>Newark Liberty International Airport Marriott</td>\n",
       "      <td>838</td>\n",
       "      <td>906</td>\n",
       "      <td>1008</td>\n",
       "      <td>-1</td>\n",
       "      <td>804</td>\n",
       "      <td>863</td>\n",
       "      <td>965</td>\n",
       "      <td>-1</td>\n",
       "      <td>796</td>\n",
       "      <td>...</td>\n",
       "      <td>932</td>\n",
       "      <td>1034</td>\n",
       "      <td>-1</td>\n",
       "      <td>1076</td>\n",
       "      <td>846</td>\n",
       "      <td>795</td>\n",
       "      <td>-1</td>\n",
       "      <td>-1</td>\n",
       "      <td>-1</td>\n",
       "      <td>-1</td>\n",
       "    </tr>\n",
       "    <tr>\n",
       "      <th>1</th>\n",
       "      <td>Hilton Garden Inn Times Square</td>\n",
       "      <td>1195</td>\n",
       "      <td>1185</td>\n",
       "      <td>1134</td>\n",
       "      <td>1144</td>\n",
       "      <td>1715</td>\n",
       "      <td>1645</td>\n",
       "      <td>1535</td>\n",
       "      <td>1662</td>\n",
       "      <td>1195</td>\n",
       "      <td>...</td>\n",
       "      <td>1629</td>\n",
       "      <td>-1</td>\n",
       "      <td>1240</td>\n",
       "      <td>1183</td>\n",
       "      <td>1146</td>\n",
       "      <td>1212</td>\n",
       "      <td>-1</td>\n",
       "      <td>-1</td>\n",
       "      <td>-1</td>\n",
       "      <td>1266</td>\n",
       "    </tr>\n",
       "    <tr>\n",
       "      <th>2</th>\n",
       "      <td>Residence Inn Newark Elizabeth Liberty Interna...</td>\n",
       "      <td>688</td>\n",
       "      <td>717</td>\n",
       "      <td>769</td>\n",
       "      <td>-1</td>\n",
       "      <td>871</td>\n",
       "      <td>-1</td>\n",
       "      <td>1070</td>\n",
       "      <td>-1</td>\n",
       "      <td>696</td>\n",
       "      <td>...</td>\n",
       "      <td>701</td>\n",
       "      <td>753</td>\n",
       "      <td>-1</td>\n",
       "      <td>-1</td>\n",
       "      <td>884</td>\n",
       "      <td>925</td>\n",
       "      <td>635</td>\n",
       "      <td>635</td>\n",
       "      <td>635</td>\n",
       "      <td>683</td>\n",
       "    </tr>\n",
       "    <tr>\n",
       "      <th>3</th>\n",
       "      <td>Westin New York at Times Square</td>\n",
       "      <td>1532</td>\n",
       "      <td>1586</td>\n",
       "      <td>1631</td>\n",
       "      <td>1681</td>\n",
       "      <td>1356</td>\n",
       "      <td>1426</td>\n",
       "      <td>1475</td>\n",
       "      <td>1965</td>\n",
       "      <td>1336</td>\n",
       "      <td>...</td>\n",
       "      <td>1882</td>\n",
       "      <td>-1</td>\n",
       "      <td>-1</td>\n",
       "      <td>1285</td>\n",
       "      <td>-1</td>\n",
       "      <td>1261</td>\n",
       "      <td>1106</td>\n",
       "      <td>1168</td>\n",
       "      <td>1181</td>\n",
       "      <td>1172</td>\n",
       "    </tr>\n",
       "    <tr>\n",
       "      <th>4</th>\n",
       "      <td>Loews Regency New York Hotel</td>\n",
       "      <td>2276</td>\n",
       "      <td>2276</td>\n",
       "      <td>2316</td>\n",
       "      <td>2316</td>\n",
       "      <td>3295</td>\n",
       "      <td>3015</td>\n",
       "      <td>3085</td>\n",
       "      <td>3345</td>\n",
       "      <td>2195</td>\n",
       "      <td>...</td>\n",
       "      <td>2316</td>\n",
       "      <td>2716</td>\n",
       "      <td>1595</td>\n",
       "      <td>1595</td>\n",
       "      <td>-1</td>\n",
       "      <td>-1</td>\n",
       "      <td>2145</td>\n",
       "      <td>2036</td>\n",
       "      <td>2045</td>\n",
       "      <td>2116</td>\n",
       "    </tr>\n",
       "  </tbody>\n",
       "</table>\n",
       "<p>5 rows × 161 columns</p>\n",
       "</div>"
      ],
      "text/plain": [
       "                                          Hotel Name  (1) 2015-11-11  \\\n",
       "0      Newark Liberty International Airport Marriott             838   \n",
       "1                     Hilton Garden Inn Times Square            1195   \n",
       "2  Residence Inn Newark Elizabeth Liberty Interna...             688   \n",
       "3                    Westin New York at Times Square            1532   \n",
       "4                       Loews Regency New York Hotel            2276   \n",
       "\n",
       "   (2) 2015-11-11  (3) 2015-11-11  (4) 2015-11-11  (1) 2015-10-14  \\\n",
       "0             906            1008              -1             804   \n",
       "1            1185            1134            1144            1715   \n",
       "2             717             769              -1             871   \n",
       "3            1586            1631            1681            1356   \n",
       "4            2276            2316            2316            3295   \n",
       "\n",
       "   (2) 2015-10-14  (3) 2015-10-14  (4) 2015-10-14  (1) 2015-11-04  \\\n",
       "0             863             965              -1             796   \n",
       "1            1645            1535            1662            1195   \n",
       "2              -1            1070              -1             696   \n",
       "3            1426            1475            1965            1336   \n",
       "4            3015            3085            3345            2195   \n",
       "\n",
       "        ...        (3) 2015-11-03  (4) 2015-11-03  (1) 2015-08-13  \\\n",
       "0       ...                   932            1034              -1   \n",
       "1       ...                  1629              -1            1240   \n",
       "2       ...                   701             753              -1   \n",
       "3       ...                  1882              -1              -1   \n",
       "4       ...                  2316            2716            1595   \n",
       "\n",
       "   (2) 2015-08-13  (3) 2015-08-13  (4) 2015-08-13  (1) 2015-11-25  \\\n",
       "0            1076             846             795              -1   \n",
       "1            1183            1146            1212              -1   \n",
       "2              -1             884             925             635   \n",
       "3            1285              -1            1261            1106   \n",
       "4            1595              -1              -1            2145   \n",
       "\n",
       "   (2) 2015-11-25  (3) 2015-11-25  (4) 2015-11-25  \n",
       "0              -1              -1              -1  \n",
       "1              -1              -1            1266  \n",
       "2             635             635             683  \n",
       "3            1168            1181            1172  \n",
       "4            2036            2045            2116  \n",
       "\n",
       "[5 rows x 161 columns]"
      ]
     },
     "execution_count": 67,
     "metadata": {},
     "output_type": "execute_result"
    }
   ],
   "source": [
    "hotelsCheckinCodes = pd.DataFrame()\n",
    "hotelsCheckinCodes['Hotel Name'] = groupByHotels.index\n",
    "\n",
    "#Create date and code columns\n",
    "for c in checkins:\n",
    "        hotelsCheckinCodes['(1) ' + c] = -1\n",
    "        hotelsCheckinCodes['(2) ' + c] = -1\n",
    "        hotelsCheckinCodes['(3) ' + c] = -1\n",
    "        hotelsCheckinCodes['(4) ' + c] = -1\n",
    "        \n",
    "#Help function - find the min price for the accept hotel,checkin date and code\n",
    "def minPrice(hotelName,checkinDate,code):\n",
    "    records = df[(df['Hotel Name'] == hotelName) & (df['Checkin Date'] == checkinDate) & (df['Discount Code'] == code)].sort_values(['Discount Price'],ascending=True)\n",
    "    if records.empty == False:\n",
    "        return records.iloc[0]['Discount Price']\n",
    "    else:\n",
    "        return -1\n",
    "\n",
    "#for each hotel set the min price\n",
    "for i,row in hotelsCheckinCodes.iterrows():\n",
    "    for ck in checkins:\n",
    "        hotelsCheckinCodes.set_value(i,'(1) ' + ck, minPrice(row['Hotel Name'], ck, 1))\n",
    "        hotelsCheckinCodes.set_value(i,'(2) ' + ck, minPrice(row['Hotel Name'], ck, 2))\n",
    "        hotelsCheckinCodes.set_value(i,'(3) ' + ck, minPrice(row['Hotel Name'], ck, 3))\n",
    "        hotelsCheckinCodes.set_value(i,'(4) ' + ck, minPrice(row['Hotel Name'], ck, 4))\n",
    "\n",
    "hotelsCheckinCodes.to_csv('Hotel_Checkin_Code.csv',sep=',',encoding='utf-8')\n",
    "hotelsCheckinCodes.head(5)"
   ]
  },
  {
   "cell_type": "markdown",
   "metadata": {},
   "source": [
    "#### Normalizes the prices to a number between 0 - 100"
   ]
  },
  {
   "cell_type": "code",
   "execution_count": 68,
   "metadata": {},
   "outputs": [
    {
     "data": {
      "text/html": [
       "<div>\n",
       "<style>\n",
       "    .dataframe thead tr:only-child th {\n",
       "        text-align: right;\n",
       "    }\n",
       "\n",
       "    .dataframe thead th {\n",
       "        text-align: left;\n",
       "    }\n",
       "\n",
       "    .dataframe tbody tr th {\n",
       "        vertical-align: top;\n",
       "    }\n",
       "</style>\n",
       "<table border=\"1\" class=\"dataframe\">\n",
       "  <thead>\n",
       "    <tr style=\"text-align: right;\">\n",
       "      <th></th>\n",
       "      <th>Hotel Name</th>\n",
       "      <th>(1) 2015-11-11</th>\n",
       "      <th>(2) 2015-11-11</th>\n",
       "      <th>(3) 2015-11-11</th>\n",
       "      <th>(4) 2015-11-11</th>\n",
       "      <th>(1) 2015-10-14</th>\n",
       "      <th>(2) 2015-10-14</th>\n",
       "      <th>(3) 2015-10-14</th>\n",
       "      <th>(4) 2015-10-14</th>\n",
       "      <th>(1) 2015-11-04</th>\n",
       "      <th>...</th>\n",
       "      <th>(3) 2015-11-03</th>\n",
       "      <th>(4) 2015-11-03</th>\n",
       "      <th>(1) 2015-08-13</th>\n",
       "      <th>(2) 2015-08-13</th>\n",
       "      <th>(3) 2015-08-13</th>\n",
       "      <th>(4) 2015-08-13</th>\n",
       "      <th>(1) 2015-11-25</th>\n",
       "      <th>(2) 2015-11-25</th>\n",
       "      <th>(3) 2015-11-25</th>\n",
       "      <th>(4) 2015-11-25</th>\n",
       "    </tr>\n",
       "  </thead>\n",
       "  <tbody>\n",
       "    <tr>\n",
       "      <th>0</th>\n",
       "      <td>Newark Liberty International Airport Marriott</td>\n",
       "      <td>6</td>\n",
       "      <td>6</td>\n",
       "      <td>8</td>\n",
       "      <td>-1</td>\n",
       "      <td>5</td>\n",
       "      <td>6</td>\n",
       "      <td>7</td>\n",
       "      <td>-1</td>\n",
       "      <td>5</td>\n",
       "      <td>...</td>\n",
       "      <td>7</td>\n",
       "      <td>8</td>\n",
       "      <td>-1</td>\n",
       "      <td>8</td>\n",
       "      <td>6</td>\n",
       "      <td>5</td>\n",
       "      <td>-1</td>\n",
       "      <td>-1</td>\n",
       "      <td>-1</td>\n",
       "      <td>-1</td>\n",
       "    </tr>\n",
       "    <tr>\n",
       "      <th>1</th>\n",
       "      <td>Hilton Garden Inn Times Square</td>\n",
       "      <td>10</td>\n",
       "      <td>10</td>\n",
       "      <td>9</td>\n",
       "      <td>9</td>\n",
       "      <td>16</td>\n",
       "      <td>15</td>\n",
       "      <td>14</td>\n",
       "      <td>15</td>\n",
       "      <td>10</td>\n",
       "      <td>...</td>\n",
       "      <td>15</td>\n",
       "      <td>-1</td>\n",
       "      <td>10</td>\n",
       "      <td>10</td>\n",
       "      <td>9</td>\n",
       "      <td>10</td>\n",
       "      <td>-1</td>\n",
       "      <td>-1</td>\n",
       "      <td>-1</td>\n",
       "      <td>10</td>\n",
       "    </tr>\n",
       "    <tr>\n",
       "      <th>2</th>\n",
       "      <td>Residence Inn Newark Elizabeth Liberty Interna...</td>\n",
       "      <td>4</td>\n",
       "      <td>4</td>\n",
       "      <td>5</td>\n",
       "      <td>-1</td>\n",
       "      <td>6</td>\n",
       "      <td>-1</td>\n",
       "      <td>8</td>\n",
       "      <td>-1</td>\n",
       "      <td>4</td>\n",
       "      <td>...</td>\n",
       "      <td>4</td>\n",
       "      <td>5</td>\n",
       "      <td>-1</td>\n",
       "      <td>-1</td>\n",
       "      <td>6</td>\n",
       "      <td>7</td>\n",
       "      <td>3</td>\n",
       "      <td>3</td>\n",
       "      <td>3</td>\n",
       "      <td>4</td>\n",
       "    </tr>\n",
       "    <tr>\n",
       "      <th>3</th>\n",
       "      <td>Westin New York at Times Square</td>\n",
       "      <td>13</td>\n",
       "      <td>14</td>\n",
       "      <td>15</td>\n",
       "      <td>15</td>\n",
       "      <td>11</td>\n",
       "      <td>12</td>\n",
       "      <td>13</td>\n",
       "      <td>18</td>\n",
       "      <td>11</td>\n",
       "      <td>...</td>\n",
       "      <td>17</td>\n",
       "      <td>-1</td>\n",
       "      <td>-1</td>\n",
       "      <td>11</td>\n",
       "      <td>-1</td>\n",
       "      <td>10</td>\n",
       "      <td>9</td>\n",
       "      <td>9</td>\n",
       "      <td>10</td>\n",
       "      <td>9</td>\n",
       "    </tr>\n",
       "    <tr>\n",
       "      <th>4</th>\n",
       "      <td>Loews Regency New York Hotel</td>\n",
       "      <td>22</td>\n",
       "      <td>22</td>\n",
       "      <td>22</td>\n",
       "      <td>22</td>\n",
       "      <td>33</td>\n",
       "      <td>30</td>\n",
       "      <td>31</td>\n",
       "      <td>34</td>\n",
       "      <td>21</td>\n",
       "      <td>...</td>\n",
       "      <td>22</td>\n",
       "      <td>27</td>\n",
       "      <td>14</td>\n",
       "      <td>14</td>\n",
       "      <td>-1</td>\n",
       "      <td>-1</td>\n",
       "      <td>20</td>\n",
       "      <td>19</td>\n",
       "      <td>19</td>\n",
       "      <td>20</td>\n",
       "    </tr>\n",
       "  </tbody>\n",
       "</table>\n",
       "<p>5 rows × 161 columns</p>\n",
       "</div>"
      ],
      "text/plain": [
       "                                          Hotel Name  (1) 2015-11-11  \\\n",
       "0      Newark Liberty International Airport Marriott               6   \n",
       "1                     Hilton Garden Inn Times Square              10   \n",
       "2  Residence Inn Newark Elizabeth Liberty Interna...               4   \n",
       "3                    Westin New York at Times Square              13   \n",
       "4                       Loews Regency New York Hotel              22   \n",
       "\n",
       "   (2) 2015-11-11  (3) 2015-11-11  (4) 2015-11-11  (1) 2015-10-14  \\\n",
       "0               6               8              -1               5   \n",
       "1              10               9               9              16   \n",
       "2               4               5              -1               6   \n",
       "3              14              15              15              11   \n",
       "4              22              22              22              33   \n",
       "\n",
       "   (2) 2015-10-14  (3) 2015-10-14  (4) 2015-10-14  (1) 2015-11-04  \\\n",
       "0               6               7              -1               5   \n",
       "1              15              14              15              10   \n",
       "2              -1               8              -1               4   \n",
       "3              12              13              18              11   \n",
       "4              30              31              34              21   \n",
       "\n",
       "        ...        (3) 2015-11-03  (4) 2015-11-03  (1) 2015-08-13  \\\n",
       "0       ...                     7               8              -1   \n",
       "1       ...                    15              -1              10   \n",
       "2       ...                     4               5              -1   \n",
       "3       ...                    17              -1              -1   \n",
       "4       ...                    22              27              14   \n",
       "\n",
       "   (2) 2015-08-13  (3) 2015-08-13  (4) 2015-08-13  (1) 2015-11-25  \\\n",
       "0               8               6               5              -1   \n",
       "1              10               9              10              -1   \n",
       "2              -1               6               7               3   \n",
       "3              11              -1              10               9   \n",
       "4              14              -1              -1              20   \n",
       "\n",
       "   (2) 2015-11-25  (3) 2015-11-25  (4) 2015-11-25  \n",
       "0              -1              -1              -1  \n",
       "1              -1              -1              10  \n",
       "2               3               3               4  \n",
       "3               9              10               9  \n",
       "4              19              19              20  \n",
       "\n",
       "[5 rows x 161 columns]"
      ]
     },
     "execution_count": 68,
     "metadata": {},
     "output_type": "execute_result"
    }
   ],
   "source": [
    "hotelsCheckinCodes = pd.DataFrame.from_csv('Hotel_Checkin_Code.csv', sep=',',encoding='utf-8')\n",
    "\n",
    "#Change -1 to None\n",
    "nullable = hotelsCheckinCodes.drop(['Hotel Name'],axis=1).apply(lambda column:column.apply(lambda x: None if x == -1 else x))\n",
    "\n",
    "maxP = nullable.max().max()\n",
    "minP = nullable.min().min()\n",
    "diff = maxP-minP\n",
    "\n",
    "normalDf = hotelsCheckinCodes.drop(['Hotel Name'],axis=1).apply(lambda column:column.apply(lambda x: x if x == -1 else int(round(((x-minP)/diff)*100))))\n",
    "normalDf.insert(0, 'Hotel Name', hotelsCheckinCodes['Hotel Name'])\n",
    "normalDf.head(5)"
   ]
  },
  {
   "cell_type": "markdown",
   "metadata": {},
   "source": [
    "#### Hierarchical Clustering"
   ]
  },
  {
   "cell_type": "code",
   "execution_count": 69,
   "metadata": {},
   "outputs": [
    {
     "data": {
      "image/png": "[encoded data removed]",
      "text/plain": [
       "<matplotlib.figure.Figure at 0x24f5be36f28>"
      ]
     },
     "metadata": {},
     "output_type": "display_data"
    }
   ],
   "source": [
    "from scipy.cluster.hierarchy import dendrogram,linkage\n",
    "\n",
    "Z = linkage(normalDf.drop(['Hotel Name'],axis=1), 'ward')\n",
    "\n",
    "plt.figure(figsize=(25, 10))\n",
    "plt.title('Hierarchical Clustering Dendrogram')\n",
    "dendrogram(Z,leaf_rotation=90.,leaf_font_size=8.)\n",
    "plt.show()"
   ]
  }
 ],
 "metadata": {
  "kernelspec": {
   "display_name": "Python 3",
   "language": "python",
   "name": "python3"
  },
  "language_info": {
   "codemirror_mode": {
    "name": "ipython",
    "version": 3
   },
   "file_extension": ".py",
   "mimetype": "text/x-python",
   "name": "python",
   "nbconvert_exporter": "python",
   "pygments_lexer": "ipython3",
   "version": "3.6.4"
  }
 },
 "nbformat": 4,
 "nbformat_minor": 2
}
